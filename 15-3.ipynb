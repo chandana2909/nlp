{
  "nbformat": 4,
  "nbformat_minor": 0,
  "metadata": {
    "colab": {
      "provenance": [],
      "authorship_tag": "ABX9TyPxpQvR6d3wvwlxta1f49/I",
      "include_colab_link": true
    },
    "kernelspec": {
      "name": "python3",
      "display_name": "Python 3"
    },
    "language_info": {
      "name": "python"
    }
  },
  "cells": [
    {
      "cell_type": "markdown",
      "metadata": {
        "id": "view-in-github",
        "colab_type": "text"
      },
      "source": [
        "<a href=\"https://colab.research.google.com/github/chandana2909/nlp/blob/main/15-3.ipynb\" target=\"_parent\"><img src=\"https://colab.research.google.com/assets/colab-badge.svg\" alt=\"Open In Colab\"/></a>"
      ]
    },
    {
      "cell_type": "code",
      "execution_count": 13,
      "metadata": {
        "id": "qx8Lpid7-4lA"
      },
      "outputs": [],
      "source": [
        "import google.generativeai as genai\n",
        "from google.colab import userdata\n",
        "GOOGLE_API_KEY = userdata.get('GOOGLE_API_KEY')\n",
        "genai.configure(api_key=GOOGLE_API_KEY)\n"
      ]
    },
    {
      "cell_type": "code",
      "source": [
        "!pip install PyPDF2"
      ],
      "metadata": {
        "colab": {
          "base_uri": "https://localhost:8080/"
        },
        "id": "JhTRgrP0_OrH",
        "outputId": "9845d16c-2238-4f47-80ed-24f7c3b57e20"
      },
      "execution_count": 10,
      "outputs": [
        {
          "output_type": "stream",
          "name": "stdout",
          "text": [
            "Requirement already satisfied: PyPDF2 in /usr/local/lib/python3.11/dist-packages (3.0.1)\n"
          ]
        }
      ]
    },
    {
      "cell_type": "code",
      "source": [
        "import PyPDF2\n",
        "def extract_text_from_pdf(pdf_path):\n",
        "  \"\"\"Extracts text from a given health report PDF using PyPDF2.\"\"\"\n",
        "  text = \"\" # Removed extra indentation\n",
        "  with open(pdf_path, 'rb') as pdf_file:\n",
        "    reader = PyPDF2.PdfReader(pdf_file) # Removed extra indentation and corrected file to pdf_file\n",
        "    for page in reader.pages: # Removed extra indentation\n",
        "      text += page.extract_text() +\"\\n\" # Removed extra indentation\n",
        "  return text # Removed extra indentation"
      ],
      "metadata": {
        "id": "mrYTUdSiBEvw"
      },
      "execution_count": 11,
      "outputs": []
    },
    {
      "cell_type": "code",
      "source": [
        "def extract_health_insights(text):\n",
        "  \"\"\"Asks Gemini AI to extract key medical insights from the report.\"\"\"\n",
        "  model = genai.GenerativeModel(\"gemini-1.5-flash\")\n",
        "  prompt = f\"Extract key insights from the following health report:\\n\\n{text}\"\n",
        "  response = model.generate_content(prompt)\n",
        "  return response.text\n",
        "pdf_file = \"health_report.pdf\"\n",
        "extracted_text = extract_text_from_pdf(pdf_file)\n",
        "insights = extract_health_insights(extracted_text)\n",
        "print(\"Key Insights:\\n\",insights)"
      ],
      "metadata": {
        "colab": {
          "base_uri": "https://localhost:8080/",
          "height": 488
        },
        "id": "wJb9tkj_BR3O",
        "outputId": "77f5e994-96c4-4ac6-f0d3-0e49fe3c9600"
      },
      "execution_count": 14,
      "outputs": [
        {
          "output_type": "stream",
          "name": "stdout",
          "text": [
            "Key Insights:\n",
            " Mr. Kishan Goud's (MR2100003157) health report from 01/02/2021 reveals the following key insights:\n",
            "\n",
            "**Infectious Diseases:**\n",
            "\n",
            "* **Negative for Dengue:**  Tests for Dengue NS1 antigen, IgG, and IgM antibodies were all negative.\n",
            "* **Negative for Malaria:** Rapid Malaria tests for Plasmodium vivax (P.V) and Plasmodium falciparum (P.F) were negative.\n",
            "* **Widal Test:**  Elevated titers for *Salmonella Typhi* \"O\" (1:160) and \"H\" (1:80)  suggest a possible past or current *Salmonella Typhi* infection.  Titers for *Salmonella Paratyphi* \"A\" and \"B\" are within the normal range.  Further investigation may be needed to confirm active infection.\n",
            "\n",
            "**Hematology:**\n",
            "\n",
            "* **Complete Blood Count (CBC):**  All values are within normal limits except for slightly elevated ESR (26 mm/hr in the first hour, 52 mm/hr in the second hour), which could indicate inflammation.  Hemoglobin, RBC count, WBC count, platelets, and PCV are within the normal range.  Differential count shows normal ranges for neutrophils, lymphocytes, eosinophils, monocytes, and basophils.\n",
            "* **HbA1c:** 5.4%, indicating good blood glucose control.  This is within the normal range for non-diabetic individuals.\n",
            "\n",
            "**Biochemistry:**\n",
            "\n",
            "* **Liver Function Tests (LFTs):**  All liver function markers (bilirubin, alkaline phosphatase, SGOT, SGPT, total protein, albumin, globulin, A/G ratio) are within the normal range.\n",
            "* **Serum Electrolytes:** Sodium (122 mmol/l) is slightly below the lower limit of the reference range; potassium and chloride are within normal limits.  This warrants further evaluation by a physician.\n",
            "* **Serum Creatinine:**  Within the normal range (0.8 mg/dl).\n",
            "* **Random Blood Glucose:**  The result is not provided in this report.\n",
            "\n",
            "\n",
            "**Overall:**\n",
            "\n",
            "While the dengue and malaria tests are negative, the elevated Widal test titers and slightly low sodium level raise concerns. The elevated ESR suggests inflammation.  The HbA1c indicates good glycemic control.  The physician should consider the Widal test results in the context of the patient's clinical presentation and may order further tests to clarify the *Salmonella Typhi* status and investigate the low sodium level.  The slightly elevated ESR should also be investigated.\n",
            "\n"
          ]
        }
      ]
    },
    {
      "cell_type": "code",
      "source": [
        "def summarize_health_report(text):\n",
        "  \"\"\"Summarizes the health report using Gemini AI.\"\"\"\n",
        "  model = genai.GenerativeModel(\"gemini-1.5-flash\")\n",
        "  prompt = f\"Summerize the following health report:\\n\\n{text}\" # Changed promt to prompt\n",
        "  response = model.generate_content(prompt)\n",
        "  return response.text\n",
        "summarized_report = summarize_health_report(extracted_text)\n",
        "print(\"Summarized Report:\\n\",summarized_report) # Changed summarized to summarized_report"
      ],
      "metadata": {
        "colab": {
          "base_uri": "https://localhost:8080/",
          "height": 488
        },
        "id": "4LaRLdlEGwWE",
        "outputId": "d3caa4fe-6f05-4025-a9a7-b43ad116f59b"
      },
      "execution_count": 16,
      "outputs": [
        {
          "output_type": "stream",
          "name": "stdout",
          "text": [
            "Summarized Report:\n",
            " Mr. Kishan Goud's (MR2100003157) health report from 01/02/2021 shows:\n",
            "\n",
            "* **Widal Test:** Elevated titers for *Salmonella Typhi* \"O\" (1:160) and \"H\" (1:80), suggesting possible past or present typhoid fever.  *Salmonella Paratyphi* \"AH\" and \"BH\" were within the normal range.\n",
            "\n",
            "* **Dengue Serology:** Negative for Dengue NS1 antigen, IgG, and IgM antibodies.\n",
            "\n",
            "* **ESR:** Elevated (26 mm/hr in the first hour, 52 mm/hr in the second), indicating inflammation.\n",
            "\n",
            "* **Malaria:** Negative for *Plasmodium falciparum* and *Plasmodium vivax*.\n",
            "\n",
            "* **Complete Blood Picture (CBC):**  Hemoglobin, RBC, WBC, and platelets were within normal ranges.  Differential count also showed normal values.\n",
            "\n",
            "* **HbA1c:** 5.4%, within the normal non-diabetic range.\n",
            "\n",
            "* **Serum Creatinine:** 0.8 mg/dl, within the normal range.\n",
            "\n",
            "* **Random Blood Glucose:**  Not reported numerically, but presumably within normal range as it's not flagged in any way.\n",
            "\n",
            "* **Liver Function Tests (LFTs):** All values within normal ranges (total bilirubin, direct bilirubin, indirect bilirubin, alkaline phosphatase, SGOT, SGPT, total protein, albumin, globulin, A/G ratio).\n",
            "\n",
            "* **Serum Electrolytes:** Sodium slightly low (122 mmol/l), potassium and chloride within normal ranges.\n",
            "\n",
            "\n",
            "**Overall:** The report shows some evidence of past or present typhoid infection (Widal test) and inflammation (ESR).  Other tested parameters are mostly within normal ranges, except for slightly low serum sodium.  Further evaluation may be needed based on clinical presentation.\n",
            "\n"
          ]
        }
      ]
    },
    {
      "cell_type": "code",
      "source": [
        "def detect_abnormalities(text):\n",
        "  model = genai. GenerativeModel(\"gemini-1.5-flash\")\n",
        "  prompt = f\"Analyze the lab tezt results in the following health report and highlight any abnormal values:\\n\\n{text}\"\n",
        "  response = model.generate_content(prompt)\n",
        "  return response.text\n",
        "\n",
        "abnormalities= detect_abnormalities(extracted_text)\n",
        "print(\"Summary:\\n\",abnormalities )"
      ],
      "metadata": {
        "colab": {
          "base_uri": "https://localhost:8080/",
          "height": 263
        },
        "id": "c-W_xPmbG3ke",
        "outputId": "2c3b1648-250b-4912-8c1c-05d135c6d327"
      },
      "execution_count": 18,
      "outputs": [
        {
          "output_type": "stream",
          "name": "stdout",
          "text": [
            "Summary:\n",
            " Based on the provided lab results, the following values fall outside the given biological reference ranges and are considered abnormal:\n",
            "\n",
            "* **Widal Test:**  S. Typhi \"O\" (1:160) and S. Typhi \"H\" (1:80) are both elevated above the reference range of 1:20. This suggests a possible past or present *Salmonella Typhi* infection.  The significance needs interpretation by a physician considering the patient's clinical picture.\n",
            "\n",
            "* **ESR (Erythrocyte Sedimentation Rate):** Both the 1st hour (26 mm/hr) and 2nd hour (52 mm/hr) values are significantly elevated above the reference range of 0-8 mm/hr for the first hour.  This indicates inflammation somewhere in the body.\n",
            "\n",
            "* **Serum Sodium:** 122 mmol/l is below the reference range of 135-146 mmol/l, indicating hyponatremia (low sodium levels).\n",
            "\n",
            "* **Serum Chloride:** 97 mmol/l is below the reference range of 98-107 mmol/l, indicating hypochloremia (low chloride levels).\n",
            "\n",
            "**Important Note:**  All other results are within the normal ranges provided.  However, it's crucial to remember that this interpretation is based solely on the provided lab report and reference ranges.  A proper medical diagnosis requires a thorough clinical evaluation by a physician considering the patient's history, symptoms, and other relevant factors.  The abnormal results highlighted here warrant further investigation and appropriate medical management by a healthcare professional.\n",
            "\n"
          ]
        }
      ]
    },
    {
      "cell_type": "code",
      "source": [
        "def explain_medical_terms(text):\n",
        "  \"\"\"Asks Gemini AI to simplify medical terms for patient understanding.\"\"\"\n",
        "  model = genai.GenerativeModel(\"gemini-1.5-flash\")\n",
        "  prompt = f\"Explain the medical terms in the following health report in simple language:\\n\\n{text}\" # Changed promt to prompt\n",
        "  response = model.generate_content(prompt)\n",
        "  return response.text\n",
        "explanation = explain_medical_terms(extracted_text)\n",
        "print(\"Summarized Explanation:\\n\", explanation) # Changed summarized to summarized_report"
      ],
      "metadata": {
        "colab": {
          "base_uri": "https://localhost:8080/",
          "height": 853
        },
        "id": "xgc-O6nEIFt7",
        "outputId": "c0ddd9ee-bd77-4b34-b131-767788d539b1"
      },
      "execution_count": 17,
      "outputs": [
        {
          "output_type": "stream",
          "name": "stdout",
          "text": [
            "Summarized Explanation:\n",
            " This report shows the results of various blood tests performed on Mr. Kishan Goud. Let's break down each section:\n",
            "\n",
            "**1. WIDAL Test:** This test checks for antibodies against *Salmonella typhi* and *Salmonella paratyphi*, bacteria that cause typhoid fever and paratyphoid fever.  The results show:\n",
            "\n",
            "* **S. Typhi \"O\" 1:160:**  A relatively high level of antibodies against the \"O\" antigen of *Salmonella typhi*. This suggests possible past or present infection.  (The reference range is 1:20, meaning anything above that indicates a possible positive result.)\n",
            "* **S. Typhi \"H\" 1:80:** A moderate level of antibodies against the \"H\" antigen of *Salmonella typhi*. Also suggesting possible past or present infection.\n",
            "* **S. Paratyphi \"A\" H 1:20:**  Antibody levels are within the normal range, suggesting no recent infection with *Salmonella paratyphi* A.\n",
            "* **S. Paratyphi \"B\" H 1:20:** Antibody levels are within the normal range, suggesting no recent infection with *Salmonella paratyphi* B.\n",
            "\n",
            "\n",
            "**2. Dengue Serology:** This test checks for dengue fever.  All results (NS1 antigen, IgG, and IgM) are negative, meaning no evidence of a current or recent dengue infection.\n",
            "\n",
            "**3. Erythrocyte Sedimentation Rate (ESR):** This measures how quickly red blood cells settle in a test tube.  A high ESR can indicate inflammation or infection in the body. Mr. Goud's ESR is elevated (26 mm/hr in the first hour and 52 mm/hr in the second hour), suggesting the presence of inflammation.\n",
            "\n",
            "**4. Rapid Malaria Test:** This test for malaria parasites in the blood. Both *Plasmodium vivax* (P.V) and *Plasmodium falciparum* (P.F) are negative, meaning no malaria infection.\n",
            "\n",
            "**5. Complete Blood Picture (CBC):**  This is a comprehensive blood test.  The results are mostly within normal ranges, but we need to keep in mind that elevated ESR suggests underlying inflammation that might account for some variations:\n",
            "\n",
            "* **Hemoglobin (Hb):**  13.6 gms% (normal).  This measures the oxygen-carrying capacity of the blood.\n",
            "* **Red Blood Cells (RBC):** 4.3 mill/cumm (slightly low but within the range of normal).\n",
            "* **White Blood Cells (WBC):** 7,200 cells/cumm (normal). These fight infection.\n",
            "* **Platelets:** 2.0 lakhs/cumm (normal). These help with blood clotting.\n",
            "* **Packed Cell Volume (PCV):** 40.5% (normal). This is the percentage of red blood cells in the blood.\n",
            "* **Differential Count:** This shows the proportions of different types of white blood cells. All are within or close to the normal range.\n",
            "* **Peripheral Blood Smear:**  Describes the appearance of the blood cells under a microscope.  The description indicates that the red and white blood cells appear normal, and there is an adequate number of platelets.\n",
            "\n",
            "\n",
            "**6. HbA1c:** This test measures average blood sugar levels over the past 2-3 months.  Mr. Goud's HbA1c of 5.4% is within the normal range for someone without diabetes.\n",
            "\n",
            "**7. Serum Creatinine:** This measures kidney function. Mr. Goud's level is within the normal range.\n",
            "\n",
            "**8. Random Blood Glucose:** This measures blood sugar at a random time.  Mr. Goud's level is within the normal range.\n",
            "\n",
            "**9. Liver Function Test (LFT):** This assesses liver health.  All values are within the normal range.\n",
            "\n",
            "* **Total Bilirubin, Direct Bilirubin, Indirect Bilirubin:** These measure different forms of bilirubin, a byproduct of red blood cell breakdown.  All are normal, suggesting no liver damage.\n",
            "* **Alkaline Phosphatase:**  An enzyme mainly from the liver and bones, within normal range.\n",
            "* **SGOT (AST) and SGPT (ALT):** Liver enzymes; both are within the normal range.\n",
            "* **Total Protein, Albumin, Globulin, A/G Ratio:** These measure various proteins in the blood, all within normal range.\n",
            "\n",
            "\n",
            "**10. Serum Electrolytes:** These measure the levels of important minerals in the blood. Sodium is slightly low, while potassium and chloride are within the normal ranges.\n",
            "\n",
            "\n",
            "**In summary:**  Mr. Goud's blood tests show some elevation in ESR, suggesting inflammation.  His Widal test indicates a possible past or present *Salmonella typhi* infection. All other tests, including those for dengue fever and malaria, are negative. His organ function tests (kidney, liver) are normal, although his serum sodium level is slightly low.  The slightly low RBC count and somewhat elevated ESR warrants further investigation to determine the cause of the inflammation.  A doctor should interpret these results in the context of Mr. Goud's symptoms and medical history.\n",
            "\n"
          ]
        }
      ]
    },
    {
      "cell_type": "code",
      "source": [
        "def ask_gemini_about_report(text, question):\n",
        "  model = genai.GenerativeModel(\"gemini-1.5-flash\")\n",
        "  prompt = f\"The following is a health report:\\n\\n{text}\\n\\nAnswer the following question based on the report:\\n\\n{question}\"\n",
        "  response = model.generate_content(prompt)\n",
        "  return response.text\n",
        "question = \"What is the patient's diagnosis?\"\n",
        "answer = ask_gemini_about_report(extracted_text, question)\n",
        "print(\"Answer:\\n\", answer)"
      ],
      "metadata": {
        "colab": {
          "base_uri": "https://localhost:8080/",
          "height": 89
        },
        "id": "GpQsu-hcJnuK",
        "outputId": "2c1d625e-07db-4dd2-8bb6-5e0d9c2ac624"
      },
      "execution_count": 19,
      "outputs": [
        {
          "output_type": "stream",
          "name": "stdout",
          "text": [
            "Answer:\n",
            " The provided lab report does not offer a diagnosis.  It only presents test results.  Elevated ESR (erythrocyte sedimentation rate) may suggest inflammation, but further clinical evaluation by the doctor is needed to determine the cause and arrive at a diagnosis.  The slightly elevated S. Typhi \"O\" and \"H\" titers warrant consideration, but alone are not sufficient for a diagnosis of typhoid fever.  The other test results are mostly within normal ranges.  Only Dr. Krishna Prasad, the attending physician, can interpret these results in the context of the patient's symptoms and medical history to make a diagnosis.\n",
            "\n"
          ]
        }
      ]
    }
  ]
}